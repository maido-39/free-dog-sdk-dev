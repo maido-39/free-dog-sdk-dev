{
 "cells": [
  {
   "cell_type": "code",
   "execution_count": null,
   "id": "c68e9eb9",
   "metadata": {},
   "outputs": [
    {
     "name": "stderr",
     "output_type": "stream",
     "text": [
      "qt.qpa.plugin: Could not find the Qt platform plugin \"wayland\" in \"/home/aril/.local/lib/python3.10/site-packages/cv2/qt/plugins\"\n"
     ]
    }
   ],
   "source": [
    "import pyrealsense2 as rs\n",
    "import numpy as np\n",
    "import cv2\n",
    "\n",
    "# 1. 파이프라인 생성\n",
    "pipeline = rs.pipeline()\n",
    "\n",
    "# 2. 설정 객체 생성\n",
    "config = rs.config()\n",
    "\n",
    "# 3. RGB 스트림 설정 (해상도 640x480, 30fps)\n",
    "config.enable_stream(rs.stream.color, 640, 480, rs.format.bgr8, 30)\n",
    "\n",
    "# 4. 스트리밍 시작\n",
    "pipeline.start(config)\n",
    "\n",
    "try:\n",
    "    while True:\n",
    "        # 5. 프레임 가져오기 (RGB 스트림 포함)\n",
    "        frames = pipeline.wait_for_frames()\n",
    "        color_frame = frames.get_color_frame()\n",
    "\n",
    "        if not color_frame:\n",
    "            continue\n",
    "\n",
    "        # 6. NumPy 배열로 변환\n",
    "        color_image = np.asanyarray(color_frame.get_data())\n",
    "\n",
    "        # 7. OpenCV로 표시\n",
    "        cv2.imshow('RealSense RGB', color_image)\n",
    "\n",
    "        # 8. ESC 누르면 종료\n",
    "        if cv2.waitKey(1) == 27:\n",
    "            break\n",
    "\n",
    "finally:\n",
    "    # 9. 정리\n",
    "    pipeline.stop()\n",
    "    cv2.destroyAllWindows()\n"
   ]
  }
 ],
 "metadata": {
  "kernelspec": {
   "display_name": "dog",
   "language": "python",
   "name": "python3"
  },
  "language_info": {
   "codemirror_mode": {
    "name": "ipython",
    "version": 3
   },
   "file_extension": ".py",
   "mimetype": "text/x-python",
   "name": "python",
   "nbconvert_exporter": "python",
   "pygments_lexer": "ipython3",
   "version": "3.10.19"
  }
 },
 "nbformat": 4,
 "nbformat_minor": 5
}
